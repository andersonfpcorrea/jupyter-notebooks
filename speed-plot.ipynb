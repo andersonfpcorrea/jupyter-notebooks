import pandas as pd
import matplotlib.pyplot as plt

# Read the CSV file
data = pd.read_csv('speed-tests.csv')

# Convert all non-'time' columns to numeric, coerce errors
data.iloc[:, :-1] = data.iloc[:, :-1].apply(pd.to_numeric, errors='coerce')

# Drop rows with NaN values in 'time' column
data = data.dropna(subset=['time'])

# Convert the 'time' column to datetime
data['time'] = pd.to_datetime(data['time'])

# Separate download and upload columns
download_cols = [col for col in data.columns if '_dl' in col]
upload_cols = [col for col in data.columns if '_ul' in col]

# Plot download speeds
plt.figure(figsize=(10, 6))
for col in download_cols:
    plt.plot(data['time'], data[col], label=col)
plt.xlabel('Time')
plt.ylabel('Download Speeds')
plt.title('Download Speeds Over Time')
plt.legend()
plt.xticks(rotation=45)
plt.tight_layout()
plt.show()

# Plot upload speeds
plt.figure(figsize=(10, 6))
for col in upload_cols:
    plt.plot(data['time'], data[col], label=col)
plt.xlabel('Time')
plt.ylabel('Upload Speeds')
plt.title('Upload Speeds Over Time')
plt.legend()
plt.xticks(rotation=45)
plt.tight_layout()
plt.show()
